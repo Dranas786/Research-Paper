{
 "cells": [
  {
   "cell_type": "code",
   "execution_count": 17,
   "id": "b83aa64a",
   "metadata": {},
   "outputs": [],
   "source": [
    "import pandas as pd\n",
    "import numpy as np"
   ]
  },
  {
   "cell_type": "code",
   "execution_count": 18,
   "id": "b3e1c025",
   "metadata": {},
   "outputs": [],
   "source": [
    "data = pd.read_csv('data_sample.csv')"
   ]
  },
  {
   "cell_type": "code",
   "execution_count": 19,
   "id": "c1d0ae94",
   "metadata": {},
   "outputs": [
    {
     "name": "stdout",
     "output_type": "stream",
     "text": [
      "fear coorelation: 0.269816628831631\n",
      "anger coorelation: 0.06669306245719378\n",
      "joy coorelation: -0.291155745597971\n",
      "love coorelation: 0.011346809029578572\n",
      "sadness coorelation: 0.07048615261251555\n",
      "surprise coorelation: -0.05575613340159121\n"
     ]
    }
   ],
   "source": [
    "# 18 August (newest methodology)\n",
    "# For finding correlation between count of (fearful and actionable tweets) and actionable tweets\n",
    "\n",
    "data_sorted_2 = data.copy()\n",
    "\n",
    "correlation1_sum = 0\n",
    "correlation2_sum = 0\n",
    "correlation3_sum = 0\n",
    "correlation4_sum = 0\n",
    "correlation5_sum = 0\n",
    "correlation6_sum = 0\n",
    "\n",
    "total_count_fear = 0\n",
    "total_count_anger = 0\n",
    "total_count_joy = 0\n",
    "total_count_love = 0\n",
    "total_count_surprise = 0\n",
    "total_count_sadness = 0\n",
    "total_count_action = 0\n",
    "\n",
    "for a in range(0,1000,1):\n",
    "    data_sorted_2 = data_sorted_2.sample(frac=1)\n",
    "\n",
    "    count_fear = 0\n",
    "    count_anger = 0\n",
    "    count_joy = 0\n",
    "    count_love = 0\n",
    "    count_surprise = 0\n",
    "    count_sadness = 0\n",
    "    count_action = 0\n",
    "\n",
    "    i = 0\n",
    "    count = 0;\n",
    "\n",
    "    for emoti in data_sorted_2['emotion']:\n",
    "        count = count + 1\n",
    "        # 1000/10 = 100 data points\n",
    "        if(count == 15):\n",
    "            total_count_fear = total_count_fear + count_fear\n",
    "            total_count_anger = total_count_anger + count_anger\n",
    "            total_count_joy = total_count_joy + count_joy \n",
    "            total_count_love = total_count_love + count_love\n",
    "            total_count_surprise = total_count_surprise + count_surprise\n",
    "            total_count_sadness = total_count_sadness + count_sadness\n",
    "            total_count_action = total_count_action + count_action\n",
    "            k = i-15\n",
    "            for l in range(k,i,1):\n",
    "                data_sorted_2.at[data_sorted_2.index[l],'count_of_fear_emotion'] = count_fear\n",
    "                data_sorted_2.at[data_sorted_2.index[l],'count_of_anger_emotion'] = count_anger\n",
    "                data_sorted_2.at[data_sorted_2.index[l],'count_of_joy_emotion'] = count_joy\n",
    "                data_sorted_2.at[data_sorted_2.index[l],'count_of_love_emotion'] = count_love\n",
    "                data_sorted_2.at[data_sorted_2.index[l],'count_of_surprise_emotion'] = count_surprise\n",
    "                data_sorted_2.at[data_sorted_2.index[l],'count_of_sadness_emotion'] = count_sadness\n",
    "                data_sorted_2.at[data_sorted_2.index[l],'count_Actionability'] = count_action\n",
    "\n",
    "    #            if data_sorted.at[data_sorted.index[l],'Actionability'] == 'T' and data_sorted.at[data_sorted.index[l],'Actionability_2'] == 'T':\n",
    "    #                print(data_sorted.at[data_sorted.index[l],'text'])\n",
    "\n",
    "    #        print(count_action)\n",
    "    #        print()\n",
    "    #        print()\n",
    "    #        print(\"Actionability tweets\")\n",
    "    #        print()\n",
    "    #        print()\n",
    "    #        total_count = count_fear + count_anger + count_joy + count_love + count_surprise + count_sadness\n",
    "\n",
    "    #        print('percentage of fearful tweets : ' + ((str)((count_fear/total_count) *100)  +'%'))\n",
    "    #        print('percentage of angry tweets : ' + ((str)((count_anger/total_count) *100)  +'%'))\n",
    "    #        print('percentage of joyful tweets : ' + ((str)((count_joy/total_count) *100)  +'%'))\n",
    "    #        print('percentage of lovable tweets : ' + ((str)((count_love/total_count) *100)  +'%'))\n",
    "    #        print('percentage of surprise tweets : ' + ((str)((count_surprise/total_count) *100)  +'%'))\n",
    "    #        print('percentage of sadness tweets : ' + ((str)((count_sadness/total_count) *100)  +'%'))\n",
    "    #        print()\n",
    "\n",
    "            count = 0\n",
    "            count_fear = 0\n",
    "            count_anger = 0\n",
    "            count_joy = 0\n",
    "            count_love = 0\n",
    "            count_surprise = 0\n",
    "            count_sadness = 0\n",
    "            count_action = 0\n",
    "\n",
    "\n",
    "        if emoti == 'fear':\n",
    "            count_fear = count_fear + 1\n",
    "\n",
    "        if emoti == 'anger':\n",
    "            count_anger = count_anger + 1\n",
    "\n",
    "        if emoti == 'joy':\n",
    "            count_joy = count_joy + 1 \n",
    "\n",
    "        if emoti == 'love':\n",
    "            count_love = count_love + 1 \n",
    "\n",
    "        if emoti == 'surprise':\n",
    "            count_surprise = count_surprise + 1 \n",
    "\n",
    "        if emoti == 'sadness':\n",
    "            count_sadness = count_sadness + 1 \n",
    "\n",
    "        if data_sorted_2.at[data_sorted_2.index[i],'Actionability'] == 'T': # and data_sorted.at[data_sorted.index[i],'Actionability_2'] == 'T':\n",
    "            count_action = count_action + 1\n",
    "\n",
    "\n",
    "\n",
    "\n",
    "        i= i +1 \n",
    "\n",
    "\n",
    "    correlation1 = data_sorted_2.corr()\n",
    "    correlation1_sum = correlation1_sum + correlation1.loc['count_of_fear_emotion', 'count_Actionability']\n",
    "\n",
    "    correlation2 = data_sorted_2.corr()\n",
    "    correlation2_sum = correlation2_sum + correlation2.loc['count_of_anger_emotion', 'count_Actionability']\n",
    "\n",
    "    correlation3 = data_sorted_2.corr()\n",
    "    correlation3_sum = correlation3_sum + correlation3.loc['count_of_joy_emotion', 'count_Actionability']\n",
    "\n",
    "    correlation4 = data_sorted_2.corr()\n",
    "    correlation4_sum = correlation4_sum + correlation4.loc['count_of_love_emotion', 'count_Actionability']\n",
    "\n",
    "    correlation5 = data_sorted_2.corr()\n",
    "    correlation5_sum = correlation5_sum + correlation5.loc['count_of_sadness_emotion', 'count_Actionability']\n",
    "\n",
    "    correlation6 = data_sorted_2.corr()\n",
    "    correlation6_sum = correlation6_sum + correlation6.loc['count_of_surprise_emotion', 'count_Actionability']\n",
    "\n",
    "print('fear coorelation: ' + str(correlation1_sum/1000))\n",
    "print('anger coorelation: ' + str(correlation2_sum/1000))\n",
    "print('joy coorelation: ' + str(correlation3_sum/1000))\n",
    "print('love coorelation: ' + str(correlation4_sum/1000))\n",
    "print('sadness coorelation: ' + str(correlation5_sum/1000))\n",
    "print('surprise coorelation: ' + str(correlation6_sum/1000))\n"
   ]
  },
  {
   "cell_type": "code",
   "execution_count": 20,
   "id": "8393828d",
   "metadata": {},
   "outputs": [],
   "source": [
    "# good results for only 1 annotater"
   ]
  },
  {
   "cell_type": "code",
   "execution_count": 21,
   "id": "6e222b6e",
   "metadata": {},
   "outputs": [],
   "source": [
    "# counting emotions with date\n",
    "# earlier techniques\n",
    "data[['created_at_date']] = data[['created_at']].apply(pd.to_datetime) \n",
    "data['created_at_date'] = data['created_at_date'].dt.date\n",
    "data = data.sort_values(by=['created_at_date'])\n",
    "\n",
    "data_sorted = data.copy()"
   ]
  },
  {
   "cell_type": "code",
   "execution_count": 22,
   "id": "cc0c31ed",
   "metadata": {},
   "outputs": [],
   "source": [
    "# counting actionable and number of emotional tweets over the sorted database, \n",
    "# Only one annotator for now\n",
    "\n",
    "\n",
    "\n",
    "\n",
    "count_fear = 0\n",
    "count_anger = 0\n",
    "count_joy = 0\n",
    "count_love = 0\n",
    "count_surprise = 0\n",
    "count_sadness = 0\n",
    "count_action = 0\n",
    "\n",
    "i = 0\n",
    "\n",
    "for emoti in data_sorted['emotion']:\n",
    "\n",
    "    if emoti == 'fear':\n",
    "        count_fear = count_fear + 1\n",
    "\n",
    "    if emoti == 'anger':\n",
    "        count_anger = count_anger + 1\n",
    "        \n",
    "    if emoti == 'joy':\n",
    "        count_joy = count_joy + 1 \n",
    "        \n",
    "    if emoti == 'love':\n",
    "        count_love = count_love + 1 \n",
    "        \n",
    "    if emoti == 'surprise':\n",
    "        count_surprise = count_surprise + 1 \n",
    "        \n",
    "    if emoti == 'sadness':\n",
    "        count_sadness = count_sadness + 1 \n",
    "        \n",
    "    if data_sorted.at[data_sorted.index[i],'Actionability'] == 'T':\n",
    "        count_action = count_action + 1\n",
    "       \n",
    "       \n",
    "    data_sorted.at[data_sorted.index[i],'count_of_fear_emotion'] = count_fear\n",
    "    data_sorted.at[data_sorted.index[i],'count_of_anger_emotion'] = count_anger\n",
    "    data_sorted.at[data_sorted.index[i],'count_of_joy_emotion'] = count_joy\n",
    "    data_sorted.at[data_sorted.index[i],'count_of_love_emotion'] = count_love\n",
    "    data_sorted.at[data_sorted.index[i],'count_of_surprise_emotion'] = count_surprise\n",
    "    data_sorted.at[data_sorted.index[i],'count_of_sadness_emotion'] = count_sadness\n",
    "    data_sorted.at[data_sorted.index[i],'count_Actionability'] = count_action\n",
    "        \n",
    "    i= i +1 \n",
    "    "
   ]
  },
  {
   "cell_type": "code",
   "execution_count": 23,
   "id": "c742b4f5",
   "metadata": {},
   "outputs": [
    {
     "name": "stderr",
     "output_type": "stream",
     "text": [
      "C:\\Users\\drana\\AppData\\Local\\Temp\\ipykernel_28316\\433262681.py:4: FutureWarning: Series.dt.weekofyear and Series.dt.week have been deprecated. Please use Series.dt.isocalendar().week instead.\n",
      "  data_sorted3['created_at_date'] = data_sorted3['created_at_date'].dt.week\n"
     ]
    }
   ],
   "source": [
    "# sorted by weeks\n",
    "data_sorted3 = data.copy()\n",
    "data_sorted3[['created_at_date']] = data_sorted3[['created_at']].apply(pd.to_datetime) \n",
    "data_sorted3['created_at_date'] = data_sorted3['created_at_date'].dt.week\n",
    "data_sorted3 = data_sorted3.sort_values(by=['created_at_date'])"
   ]
  },
  {
   "cell_type": "code",
   "execution_count": 24,
   "id": "99727b9d",
   "metadata": {},
   "outputs": [],
   "source": [
    "#  counting actionable and number of emotional tweets over the sorted database on the basis of months\n",
    "\n",
    "count_fear = 0\n",
    "count_anger = 0\n",
    "count_joy = 0\n",
    "count_love = 0\n",
    "count_surprise = 0\n",
    "count_sadness = 0\n",
    "count_action = 0\n",
    "time_var = data_sorted3.at[data_sorted3.index[0],'created_at_date']\n",
    "i = 0\n",
    "k = 0\n",
    "for emoti in data_sorted3['emotion']:\n",
    "    if data_sorted3.at[data_sorted3.index[i],'created_at_date'] == time_var:\n",
    "        if emoti == 'fear':\n",
    "            count_fear = count_fear + 1\n",
    "        if emoti == 'anger':\n",
    "            count_anger = count_anger + 1\n",
    "        if emoti == 'joy':\n",
    "            count_joy = count_joy + 1 \n",
    "        if emoti == 'love':\n",
    "            count_love = count_love + 1 \n",
    "        if emoti == 'surprise':\n",
    "            count_surprise = count_surprise + 1 \n",
    "        if emoti == 'sadness':\n",
    "            count_sadness = count_sadness + 1 \n",
    "            \n",
    "        if data_sorted3.at[data_sorted3.index[i],'Actionability'] == 'T':\n",
    "            count_action = count_action + 1\n",
    "            \n",
    "    else:\n",
    "        time_var = data_sorted3.at[data_sorted3.index[i],'created_at_date']\n",
    "        for j in range(k,i,1):\n",
    "\n",
    "            data_sorted3.at[data_sorted3.index[j],'count_of_fear_emotion'] = count_fear\n",
    "\n",
    "            data_sorted3.at[data_sorted3.index[j],'count_of_anger_emotion'] = count_anger\n",
    "\n",
    "            data_sorted3.at[data_sorted3.index[j],'count_of_joy_emotion'] = count_joy\n",
    "\n",
    "            data_sorted3.at[data_sorted3.index[j],'count_of_love_emotion'] = count_love\n",
    "\n",
    "            data_sorted3.at[data_sorted3.index[j],'count_of_surprise_emotion'] = count_surprise\n",
    "\n",
    "            data_sorted3.at[data_sorted3.index[j],'count_of_sadness_emotion'] = count_sadness\n",
    "\n",
    "            data_sorted3.at[data_sorted3.index[j],'count_Actionability'] = count_action\n",
    "        count_fear = 0\n",
    "        count_anger = 0\n",
    "        count_joy = 0\n",
    "        count_love = 0\n",
    "        count_surprise = 0\n",
    "        count_sadness = 0\n",
    "        count_action = 0\n",
    "        k = i\n",
    "    i= i +1 \n",
    "    "
   ]
  },
  {
   "cell_type": "code",
   "execution_count": 25,
   "id": "862f9c07",
   "metadata": {},
   "outputs": [],
   "source": [
    "data_sorted3 = data_sorted3.fillna(0)"
   ]
  },
  {
   "cell_type": "code",
   "execution_count": 26,
   "id": "772f8fc5",
   "metadata": {},
   "outputs": [
    {
     "data": {
      "text/plain": [
       "<AxesSubplot:xlabel='created_at_date'>"
      ]
     },
     "execution_count": 26,
     "metadata": {},
     "output_type": "execute_result"
    },
    {
     "data": {
      "image/png": "[encoded data removed]",
      "text/plain": [
       "<Figure size 432x288 with 1 Axes>"
      ]
     },
     "metadata": {
      "needs_background": "light"
     },
     "output_type": "display_data"
    },
    {
     "data": {
      "image/png": "[encoded data removed]",
      "text/plain": [
       "<Figure size 432x288 with 1 Axes>"
      ]
     },
     "metadata": {
      "needs_background": "light"
     },
     "output_type": "display_data"
    }
   ],
   "source": [
    "data_sorted3.plot(x='created_at_date', y='count_of_fear_emotion')\n",
    "data_sorted3.plot(x='created_at_date', y='count_Actionability')"
   ]
  },
  {
   "cell_type": "code",
   "execution_count": 27,
   "id": "765e0b80",
   "metadata": {},
   "outputs": [
    {
     "name": "stdout",
     "output_type": "stream",
     "text": [
      "fear coorelation: 0.7046686447847537\n",
      "anger coorelation: -0.019046255571103263\n",
      "joy coorelation: 0.5374087522159265\n",
      "love coorelation: 0.1675459931751064\n",
      "sadness coorelation: 0.23763150289975304\n",
      "surprise coorelation: 0.23273406476219527\n"
     ]
    }
   ],
   "source": [
    "correlation1 = data_sorted3.corr()\n",
    "print('fear coorelation: ' + str(correlation1.loc['count_of_fear_emotion', 'count_Actionability']))\n",
    "\n",
    "correlation2 = data_sorted3.corr()\n",
    "print('anger coorelation: ' + str(correlation2.loc['count_of_anger_emotion', 'count_Actionability']))\n",
    "\n",
    "correlation3 = data_sorted3.corr()\n",
    "print('joy coorelation: ' + str(correlation3.loc['count_of_joy_emotion', 'count_Actionability']))\n",
    "\n",
    "correlation4 = data_sorted3.corr()\n",
    "print('love coorelation: ' + str(correlation4.loc['count_of_love_emotion', 'count_Actionability']))\n",
    "\n",
    "correlation5 = data_sorted3.corr()\n",
    "print('sadness coorelation: ' + str(correlation5.loc['count_of_sadness_emotion', 'count_Actionability']))\n",
    "\n",
    "correlation6 = data_sorted3.corr()\n",
    "print('surprise coorelation: ' + str(correlation6.loc['count_of_surprise_emotion', 'count_Actionability']))"
   ]
  },
  {
   "cell_type": "code",
   "execution_count": 28,
   "id": "d343899d",
   "metadata": {},
   "outputs": [
    {
     "name": "stdout",
     "output_type": "stream",
     "text": [
      "Probablity that a tweet is actionable(by atleast 1 marker) if it is fearful :0.5862068965517241\n"
     ]
    }
   ],
   "source": [
    "# Probability of a tweet being actionable by either one marker if it's emotion is fearful\n",
    "\n",
    "i = 0 \n",
    "total_fear = 0\n",
    "action_if_fear = 0\n",
    "for emoti in data_sorted['emotion']:\n",
    "    if emoti == 'fear':\n",
    "        total_fear = total_fear + 1\n",
    "        if data_sorted.at[data_sorted.index[i],'Actionability'] == 'T':\n",
    "            action_if_fear = action_if_fear + 1\n",
    "            \n",
    "    i = i + 1\n",
    "    \n",
    "Percentage_fear_action = action_if_fear / total_fear\n",
    "\n",
    "print('Probablity that a tweet is actionable(by atleast 1 marker) if it is fearful :' + str(Percentage_fear_action))"
   ]
  },
  {
   "cell_type": "code",
   "execution_count": 29,
   "id": "5eedad8c",
   "metadata": {},
   "outputs": [
    {
     "name": "stdout",
     "output_type": "stream",
     "text": [
      "Probablity that a tweet is actionable if it is joyful :0.20121951219512196\n",
      "Probablity that a tweet is actionable if it is angry :0.4166666666666667\n",
      "Probablity that a tweet is actionable if it is lovable :0.4\n",
      "Probablity that a tweet is actionable if it is sadness :0.43478260869565216\n",
      "Probablity that a tweet is actionable if it is surprising :0.0\n"
     ]
    }
   ],
   "source": [
    "\n",
    "# Probability of a tweet being actionable by either one marker if it's emotion is other than fearful\n",
    "\n",
    "i = 0 \n",
    "total_joy = 0\n",
    "total_anger = 0\n",
    "total_love = 0\n",
    "total_sadness = 0\n",
    "total_surprise = 0\n",
    "action_if_joy = 0\n",
    "action_if_anger = 0\n",
    "action_if_love = 0\n",
    "action_if_sadness = 0\n",
    "action_if_surprise = 0\n",
    "for emoti in data_sorted['emotion']:\n",
    "    if emoti == 'joy':\n",
    "        total_joy = total_joy + 1\n",
    "        if data_sorted.at[data_sorted.index[i],'Actionability'] == 'T':\n",
    "            action_if_joy = action_if_joy + 1\n",
    "    if emoti == 'anger':\n",
    "        total_anger = total_anger + 1\n",
    "        if data_sorted.at[data_sorted.index[i],'Actionability'] == 'T':\n",
    "            action_if_anger = action_if_anger + 1\n",
    "            \n",
    "    if emoti == 'love':\n",
    "        total_love = total_love + 1\n",
    "        if data_sorted.at[data_sorted.index[i],'Actionability'] == 'T':\n",
    "            action_if_love = action_if_love + 1\n",
    "            \n",
    "    if emoti == 'sadness':\n",
    "        total_sadness = total_sadness + 1\n",
    "        if data_sorted.at[data_sorted.index[i],'Actionability'] == 'T':\n",
    "            action_if_sadness = action_if_sadness + 1\n",
    "            \n",
    "    if emoti == 'surprise':\n",
    "        total_surprise = total_surprise + 1\n",
    "        if data_sorted.at[data_sorted.index[i],'Actionability'] == 'T':\n",
    "            action_if_surprise = action_if_surprise + 1\n",
    "            \n",
    "    i = i + 1\n",
    "    \n",
    "Percentage_joy_action = action_if_joy / total_joy\n",
    "Percentage_anger_action = action_if_anger / total_anger\n",
    "Percentage_love_action = action_if_love / total_love\n",
    "Percentage_sadness_action = action_if_sadness / total_sadness\n",
    "Percentage_surprise_action = action_if_surprise / total_surprise\n",
    "\n",
    "print('Probablity that a tweet is actionable if it is joyful :' + str(Percentage_joy_action))\n",
    "print('Probablity that a tweet is actionable if it is angry :' + str(Percentage_anger_action))\n",
    "print('Probablity that a tweet is actionable if it is lovable :' + str(Percentage_love_action))\n",
    "print('Probablity that a tweet is actionable if it is sadness :' + str(Percentage_sadness_action))\n",
    "print('Probablity that a tweet is actionable if it is surprising :' + str(Percentage_surprise_action))"
   ]
  },
  {
   "cell_type": "code",
   "execution_count": 30,
   "id": "3ff22ff6",
   "metadata": {},
   "outputs": [
    {
     "name": "stdout",
     "output_type": "stream",
     "text": [
      "total_actionable tweets :99\n",
      "total_actionable tweets with fear emotion :34\n",
      "total_actionable tweets with joy emotion :33\n",
      "total_actionable tweets with anger emotion :20\n"
     ]
    }
   ],
   "source": [
    "total_actionable = action_if_fear + action_if_joy + action_if_anger + action_if_love + action_if_sadness + action_if_surprise\n",
    "print('total_actionable tweets :' + str(total_actionable))\n",
    "\n",
    "print('total_actionable tweets with fear emotion :' + str(action_if_fear))\n",
    "print('total_actionable tweets with joy emotion :' + str(action_if_joy))\n",
    "print('total_actionable tweets with anger emotion :' + str(action_if_anger))"
   ]
  },
  {
   "cell_type": "code",
   "execution_count": 31,
   "id": "5a2ab5eb",
   "metadata": {},
   "outputs": [
    {
     "data": {
      "image/png": "[encoded data removed]",
      "text/plain": [
       "<Figure size 432x288 with 1 Axes>"
      ]
     },
     "metadata": {},
     "output_type": "display_data"
    },
    {
     "data": {
      "image/png": "[encoded data removed]",
      "text/plain": [
       "<Figure size 432x288 with 1 Axes>"
      ]
     },
     "metadata": {},
     "output_type": "display_data"
    }
   ],
   "source": [
    "df1 = pd.DataFrame({'emotion_count': [total_count_fear, total_count_joy , total_count_anger, total_count_love, total_count_sadness, total_count_surprise]},\n",
    "                  index=['fear', 'joyful', 'anger', 'love', 'sadness','surprise'])\n",
    "plot = df1.plot.pie(y='emotion_count')\n",
    "df2 = pd.DataFrame({'actionable_count': [action_if_fear, action_if_joy , action_if_anger, action_if_love, action_if_sadness, action_if_surprise]},\n",
    "                  index=['fear', 'joyful', 'anger', 'love', 'sadness','surprise'])\n",
    "plot = df2.plot.pie(y='actionable_count')"
   ]
  },
  {
   "cell_type": "code",
   "execution_count": null,
   "id": "69aa6135",
   "metadata": {},
   "outputs": [],
   "source": []
  },
  {
   "cell_type": "code",
   "execution_count": null,
   "id": "b1deb942",
   "metadata": {},
   "outputs": [],
   "source": []
  },
  {
   "cell_type": "code",
   "execution_count": null,
   "id": "842618d0",
   "metadata": {},
   "outputs": [],
   "source": []
  }
 ],
 "metadata": {
  "kernelspec": {
   "display_name": "Python 3 (ipykernel)",
   "language": "python",
   "name": "python3"
  },
  "language_info": {
   "codemirror_mode": {
    "name": "ipython",
    "version": 3
   },
   "file_extension": ".py",
   "mimetype": "text/x-python",
   "name": "python",
   "nbconvert_exporter": "python",
   "pygments_lexer": "ipython3",
   "version": "3.10.4"
  }
 },
 "nbformat": 4,
 "nbformat_minor": 5
}
